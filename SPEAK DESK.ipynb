{
 "cells": [
  {
   "cell_type": "code",
   "execution_count": 8,
   "id": "d0554829-ccd9-4780-b160-c68cb31d2d76",
   "metadata": {},
   "outputs": [
    {
     "name": "stdout",
     "output_type": "stream",
     "text": [
      "Requirement already satisfied: SpeechRecognition in c:\\users\\asus\\anaconda3\\lib\\site-packages (3.11.0)\n",
      "Requirement already satisfied: requests>=2.26.0 in c:\\users\\asus\\anaconda3\\lib\\site-packages (from SpeechRecognition) (2.32.2)\n",
      "Requirement already satisfied: typing-extensions in c:\\users\\asus\\anaconda3\\lib\\site-packages (from SpeechRecognition) (4.11.0)\n",
      "Requirement already satisfied: charset-normalizer<4,>=2 in c:\\users\\asus\\anaconda3\\lib\\site-packages (from requests>=2.26.0->SpeechRecognition) (2.0.4)\n",
      "Requirement already satisfied: idna<4,>=2.5 in c:\\users\\asus\\anaconda3\\lib\\site-packages (from requests>=2.26.0->SpeechRecognition) (3.7)\n",
      "Requirement already satisfied: urllib3<3,>=1.21.1 in c:\\users\\asus\\anaconda3\\lib\\site-packages (from requests>=2.26.0->SpeechRecognition) (2.2.2)\n",
      "Requirement already satisfied: certifi>=2017.4.17 in c:\\users\\asus\\anaconda3\\lib\\site-packages (from requests>=2.26.0->SpeechRecognition) (2024.6.2)\n",
      "Note: you may need to restart the kernel to use updated packages.\n"
     ]
    }
   ],
   "source": [
    "pip install SpeechRecognition"
   ]
  },
  {
   "cell_type": "code",
   "execution_count": 9,
   "id": "b170e030-db2d-4949-98a3-702cb4b4743f",
   "metadata": {},
   "outputs": [
    {
     "name": "stdout",
     "output_type": "stream",
     "text": [
      "Requirement already satisfied: PyQt5 in c:\\users\\asus\\anaconda3\\lib\\site-packages (5.15.10)\n",
      "Requirement already satisfied: PyQt5-sip<13,>=12.13 in c:\\users\\asus\\anaconda3\\lib\\site-packages (from PyQt5) (12.13.0)\n",
      "Note: you may need to restart the kernel to use updated packages.\n"
     ]
    }
   ],
   "source": [
    "pip install PyQt5"
   ]
  },
  {
   "cell_type": "markdown",
   "id": "6995cba1-38df-4b2e-b41b-4f6a7cf0150a",
   "metadata": {},
   "source": [
    "IMPORTING LIBRARIES"
   ]
  },
  {
   "cell_type": "code",
   "execution_count": 10,
   "id": "b7859104-be31-476a-88ee-a6e28a0c366a",
   "metadata": {},
   "outputs": [],
   "source": [
    "import speech_recognition as sr\n",
    "import pyttsx3\n",
    "import pywhatkit\n",
    "import datetime\n",
    "import wikipedia\n",
    "import pyjokes\n",
    "import requests\n",
    "import json\n",
    "import sys\n",
    "import os\n",
    "import subprocess\n",
    "import imaplib\n",
    "import email\n",
    "import smtplib\n",
    "import tempfile\n",
    "import pyautogui\n",
    "import pyperclip\n",
    "import webbrowser\n",
    "from email.mime.text import MIMEText\n",
    "from email.mime.multipart import MIMEMultipart"
   ]
  },
  {
   "cell_type": "markdown",
   "id": "838545c2-f728-4b91-a851-6fbb234edb21",
   "metadata": {},
   "source": [
    "VOICE RECOGNIZER"
   ]
  },
  {
   "cell_type": "code",
   "execution_count": 11,
   "id": "77b97eb9-f087-4def-b6ff-015c3b9155f5",
   "metadata": {},
   "outputs": [],
   "source": [
    "listener = sr.Recognizer()"
   ]
  },
  {
   "cell_type": "markdown",
   "id": "9399f4ee-0441-495f-a1ba-28eabd6266c6",
   "metadata": {},
   "source": [
    "TEXT TO SPEECH ENGINE"
   ]
  },
  {
   "cell_type": "code",
   "execution_count": 12,
   "id": "4b288c29-97cd-4d59-b088-70927801f39f",
   "metadata": {},
   "outputs": [],
   "source": [
    "engine = pyttsx3.init()\n",
    "voices = engine.getProperty(\"voices\")\n",
    "engine.setProperty('voice', voices[1].id)  # voices[1] = female, voices[0] = male"
   ]
  },
  {
   "cell_type": "code",
   "execution_count": 13,
   "id": "7e18c7d0-a2f4-4354-b0b1-2873aa224eeb",
   "metadata": {},
   "outputs": [],
   "source": [
    "def engine_talk(text):\n",
    "    print('Vani:',text)\n",
    "    try:\n",
    "        engine.say(text)\n",
    "        engine.runAndWait()\n",
    "    except RuntimeError:\n",
    "        print(\"Speech engine is already running. Skipping audio output.\")"
   ]
  },
  {
   "cell_type": "markdown",
   "id": "aee9008d-62c2-4807-bae3-bf88c0a38234",
   "metadata": {},
   "source": [
    "FEATURES"
   ]
  },
  {
   "cell_type": "markdown",
   "id": "1785c36d-43d6-4184-8ed1-f04b271ca5b7",
   "metadata": {},
   "source": [
    "1. WEATHER FUNCTN"
   ]
  },
  {
   "cell_type": "code",
   "execution_count": 14,
   "id": "8fc546cb-50a2-4418-b8d6-89cbf86a3d80",
   "metadata": {},
   "outputs": [],
   "source": [
    "# ---------- Weather Function ----------\n",
    "def weather(city):\n",
    "    api_key = \"4214d2473b3f1c79c03d0cbf06919b3c\"\n",
    "    base_url = \"http://api.openweathermap.org/data/2.5/weather?\"\n",
    "    complete_url = f\"{base_url}appid={api_key}&q={city}\"\n",
    "    \n",
    "    response = requests.get(complete_url)\n",
    "    data = response.json()\n",
    "\n",
    "    if data[\"cod\"] != \"404\":\n",
    "        main = data[\"main\"]\n",
    "        weather_desc = data[\"weather\"][0][\"description\"]\n",
    "        temp = main[\"temp\"] - 273.15  # Convert from Kelvin to Celsius\n",
    "        return f\"The current temperature in {city} is {temp:.2f}°C with {weather_desc}.\"\n",
    "    else:\n",
    "        return \"City not found.\""
   ]
  },
  {
   "cell_type": "markdown",
   "id": "8908ba8a-22bc-4bcb-b5e2-63f52099a0a7",
   "metadata": {},
   "source": [
    "2. NEWS FUNCTN "
   ]
  },
  {
   "cell_type": "code",
   "execution_count": 15,
   "id": "cc965c9b-40b7-4e3c-aeb4-c02be471820d",
   "metadata": {},
   "outputs": [],
   "source": [
    "def get_news():\n",
    "    api_key = \"a45e87f978784a71b6782f0763d66cd1\"\n",
    "    url = f\"https://newsapi.org/v2/top-headlines?category=general&apiKey={api_key}\"\n",
    "\n",
    "    try:\n",
    "        response = requests.get(url)\n",
    "        response.raise_for_status()\n",
    "        articles = response.json().get(\"articles\", [])[:5]\n",
    "        news_summary = \"Here are the top 5 global news headlines:\\n\"\n",
    "        for i, article in enumerate(articles, 1):\n",
    "            news_summary += f\"{i}. {article.get('title', 'No Title')}\\n\"\n",
    "        return news_summary.strip()\n",
    "    except requests.exceptions.RequestException as e:\n",
    "        return f\"Failed to fetch news: {e}\""
   ]
  },
  {
   "cell_type": "markdown",
   "id": "1b655f1f-5c67-420b-a6ba-3a7c7ae804cf",
   "metadata": {},
   "source": [
    "3. OPEN/CLOSE APPLICATIONS"
   ]
  },
  {
   "cell_type": "code",
   "execution_count": 16,
   "id": "e5cfee89-e9a2-4eb5-a1c3-e68a8b5f5e0d",
   "metadata": {},
   "outputs": [],
   "source": [
    "# ---------- Open Application ----------\n",
    "def open_app(app_name):\n",
    "    app_paths = {\n",
    "        \"notepad\": \"notepad.exe\",\n",
    "        \"calculator\": \"calc.exe\",\n",
    "        \"chrome\": \"C:\\\\Program Files\\\\Google\\\\Chrome\\\\Application\\\\chrome.exe\",\n",
    "        \"word\": \"C:\\\\Program Files\\\\Microsoft Office\\\\root\\\\Office16\\\\WINWORD.EXE\",\n",
    "        \"excel\": \"C:\\\\Program Files\\\\Microsoft Office\\\\root\\\\Office16\\\\EXCEL.EXE\",\n",
    "        \"weather\":\"weather.exe\",\n",
    "        \"spotify\":\"spotify.exe\"\n",
    "    }\n",
    "\n",
    "    for name, path in app_paths.items():\n",
    "        if name in app_name:\n",
    "            try:\n",
    "                subprocess.Popen(path)\n",
    "                return f\"{name.capitalize()} is opening.\"\n",
    "            except Exception as e:\n",
    "                return f\"Failed to open {name}: {str(e)}\"\n",
    "    return \"Sorry, I couldn't find that application.\"\n",
    "\n",
    "\n",
    "# ---------- Close Application ----------\n",
    "def close_app(app_name):\n",
    "    process_names = {\n",
    "        \"notepad\": \"notepad.exe\",\n",
    "        \"calculator\": \"Calculator.exe\",\n",
    "        \"chrome\": \"chrome.exe\",\n",
    "        \"word\": \"WINWORD.EXE\",\n",
    "        \"excel\": \"EXCEL.EXE\"\n",
    "    }\n",
    "\n",
    "    for name, process in process_names.items():\n",
    "        if name in app_name:\n",
    "            os.system(f\"taskkill /f /im {process}\")\n",
    "            return f\"{name.capitalize()} has been closed.\"\n",
    "    return \"Application not found or not running.\""
   ]
  },
  {
   "cell_type": "markdown",
   "id": "9f82ccfa-9bb2-40eb-bae7-9808adaf7491",
   "metadata": {},
   "source": [
    "4. OPEN FOLDERS"
   ]
  },
  {
   "cell_type": "code",
   "execution_count": 17,
   "id": "a764a8b1-4afe-46c9-bd1a-b4bf2baa29bc",
   "metadata": {},
   "outputs": [],
   "source": [
    "# ---------- Open Folder ----------\n",
    "def open_folder(folder_name):\n",
    "    folder_paths = {\n",
    "        \"downloads\": os.path.expanduser('~\\\\Downloads'),\n",
    "        \"documents\": os.path.expanduser('~\\\\Documents'),\n",
    "        \"desktop\": os.path.expanduser('~\\\\Desktop'),\n",
    "        \"pictures\": os.path.expanduser('~\\\\Pictures'),\n",
    "        \"music\": os.path.expanduser('~\\\\Music'),\n",
    "        \"videos\": os.path.expanduser('~\\\\Videos'),\n",
    "        \"recent\": os.path.join(os.path.expanduser('~'), \"AppData\\\\Roaming\\\\Microsoft\\\\Windows\\\\Recent\"),\n",
    "        \"movie\": os.path.expanduser('~\\\\MOVIE'),\n",
    "        \"sem 8\": os.path.expanduser('~\\\\sem 8'),\n",
    "    }\n",
    "\n",
    "    folder_name = folder_name.lower()\n",
    "    for key, path in folder_paths.items():\n",
    "        if key in folder_name:\n",
    "            if os.path.exists(path):\n",
    "                os.startfile(path)\n",
    "                return f\"Opening {key} folder.\"\n",
    "            else:\n",
    "                return f\"The {key} folder doesn't exist.\"\n",
    "    \n",
    "    # Try as direct path if no match\n",
    "    if os.path.exists(folder_name):\n",
    "        os.startfile(folder_name)\n",
    "        return f\"Opening {folder_name}.\"\n",
    "    return \"Sorry, I couldn't find that folder.\""
   ]
  },
  {
   "cell_type": "markdown",
   "id": "7c8841c0-a92d-4452-a740-603e8599ac3c",
   "metadata": {},
   "source": [
    "5. READ UNREAD EMAILS"
   ]
  },
  {
   "cell_type": "code",
   "execution_count": 18,
   "id": "c2bc3039-e5b7-43eb-a18b-f8c28a78fb5b",
   "metadata": {},
   "outputs": [],
   "source": [
    "def read_unread_emails(email_user, email_pass):\n",
    "    try:\n",
    "        mail = imaplib.IMAP4_SSL('imap.gmail.com')\n",
    "        mail.login(email_user, email_pass)\n",
    "        mail.select('inbox')\n",
    "        status, response = mail.search(None, '(UNSEEN)')\n",
    "        unread_ids = response[0].split()\n",
    "\n",
    "        if not unread_ids:\n",
    "            engine_talk(\"You have no unread emails.\")\n",
    "            return\n",
    "\n",
    "        engine_talk(f\"You have {len(unread_ids)} unread emails.\")\n",
    "        for e_id in unread_ids:\n",
    "            _, msg_data = mail.fetch(e_id, '(RFC822)')\n",
    "            for part in msg_data:\n",
    "                if isinstance(part, tuple):\n",
    "                    msg = email.message_from_bytes(part[1])\n",
    "                    subject = msg['subject']\n",
    "                    from_ = msg['from']\n",
    "                    engine_talk(f\"Email from {from_} with subject {subject}\")\n",
    "        mail.logout()\n",
    "    except Exception as e:\n",
    "        engine_talk(\"Sorry, I could not read your emails.\")\n",
    "        print(\"Email error:\", e)\n",
    "\n"
   ]
  },
  {
   "cell_type": "markdown",
   "id": "3577e474-68cc-4c02-adef-fe365bbbb246",
   "metadata": {},
   "source": [
    "6. SEND AN EMAIL"
   ]
  },
  {
   "cell_type": "code",
   "execution_count": 19,
   "id": "80bc9306-77ba-4f08-8087-8a97579b1231",
   "metadata": {},
   "outputs": [],
   "source": [
    "def send_email(sender_email, sender_password, receiver_email, subject, body):\n",
    "    try:\n",
    "        msg = MIMEMultipart()\n",
    "        msg['From'] = sender_email\n",
    "        msg['To'] = receiver_email\n",
    "        msg['Subject'] = subject\n",
    "        msg.attach(MIMEText(body, 'plain'))\n",
    "\n",
    "        server = smtplib.SMTP('smtp.gmail.com', 587)\n",
    "        server.starttls()\n",
    "        server.login(sender_email, sender_password)\n",
    "        server.sendmail(sender_email, receiver_email, msg.as_string())\n",
    "        server.quit()\n",
    "\n",
    "        return \"Email sent successfully!\"\n",
    "    except Exception as e:\n",
    "        print(\"Error sending email:\", e)\n",
    "        return \"Sorry, I could not send the email.\""
   ]
  },
  {
   "cell_type": "markdown",
   "id": "c0784b7a-2393-45e0-a97a-c089f9dec5da",
   "metadata": {},
   "source": [
    "7. TAKE A SCREENSHOT"
   ]
  },
  {
   "cell_type": "code",
   "execution_count": 20,
   "id": "2d6942ef-d28a-425c-921f-7e23f2a41e2e",
   "metadata": {},
   "outputs": [],
   "source": [
    "def take_screenshot():\n",
    "    try:\n",
    "        folder = \"Screenshots\"\n",
    "        if not os.path.exists(folder):\n",
    "            os.makedirs(folder)\n",
    "\n",
    "        filename = datetime.datetime.now().strftime(\"screenshot_%Y%m%d_%H%M%S.png\")\n",
    "        filepath = os.path.join(folder, filename)\n",
    "\n",
    "        screenshot = pyautogui.screenshot()\n",
    "        screenshot.save(filepath)\n",
    "        subprocess.Popen(f'explorer \"{os.path.abspath(folder)}\"')\n",
    "\n",
    "        return f\"Screenshot saved as {filename} and folder opened.\"\n",
    "    except Exception as e:\n",
    "        return f\"Failed to take screenshot: {str(e)}\""
   ]
  },
  {
   "cell_type": "markdown",
   "id": "3cb42275-479b-42c3-a002-1b56aaea21e7",
   "metadata": {},
   "source": [
    "8. CREATE A STICKY NOTE"
   ]
  },
  {
   "cell_type": "code",
   "execution_count": 21,
   "id": "6b298582-0bee-4c02-bb00-d3b017e508af",
   "metadata": {},
   "outputs": [],
   "source": [
    "def create_sticky_note(note_content):\n",
    "    try:\n",
    "        with tempfile.NamedTemporaryFile(delete=False, suffix=\".txt\", mode='w', encoding='utf-8') as note_file:\n",
    "            note_file.write(note_content)\n",
    "            note_path = note_file.name\n",
    "        subprocess.Popen(['notepad.exe', note_path])\n",
    "        return \"Reminder note created and opened on your desktop.\"\n",
    "    except Exception as e:\n",
    "        return f\"Failed to create note: {str(e)}\""
   ]
  },
  {
   "cell_type": "markdown",
   "id": "13c7db45-0abe-4216-b057-a8d2934b1e52",
   "metadata": {},
   "source": [
    "9. CHATGPT INTEGRATION"
   ]
  },
  {
   "cell_type": "code",
   "execution_count": 22,
   "id": "cd4febde-02b1-4dc8-910d-7d73afa4f5ab",
   "metadata": {},
   "outputs": [],
   "source": [
    "def ask_chatgpt(prompt):\n",
    "    try:\n",
    "        response = ChatCompletion.create(\n",
    "            model=\"gpt-4\",\n",
    "            messages=[{\"role\": \"user\", \"content\": prompt}],\n",
    "            provider=Yqcloud()\n",
    "        )\n",
    "        return response\n",
    "    except Exception as e:\n",
    "        print(\"gpt4free error:\", e)\n",
    "        return \"Sorry, I couldn't connect to ChatGPT right now.\"\n"
   ]
  },
  {
   "cell_type": "code",
   "execution_count": 23,
   "id": "228b95d0-195b-42d0-a4fa-fc57ee2bf9ad",
   "metadata": {},
   "outputs": [
    {
     "name": "stdout",
     "output_type": "stream",
     "text": [
      "[<class 'g4f.Provider.ARTA.ARTA'>, <class 'g4f.Provider.needs_auth.Anthropic.Anthropic'>, <class 'g4f.providers.base_provider.AsyncGeneratorProvider'>, <class 'g4f.providers.base_provider.AsyncProvider'>, <class 'g4f.Provider.template.BackendApi.BackendApi'>, <class 'g4f.providers.types.BaseProvider'>, <class 'g4f.Provider.needs_auth.BingCreateImages.BingCreateImages'>, <class 'g4f.Provider.hf_space.BlackForestLabs_Flux1Dev.BlackForestLabs_Flux1Dev'>, <class 'g4f.Provider.Blackbox.Blackbox'>, <class 'g4f.Provider.needs_auth.BlackboxPro.BlackboxPro'>, <class 'g4f.Provider.needs_auth.CablyAI.CablyAI'>, <class 'g4f.Provider.needs_auth.Cerebras.Cerebras'>, <class 'g4f.Provider.Chatai.Chatai'>, <class 'g4f.Provider.Cloudflare.Cloudflare'>, <class 'g4f.Provider.hf_space.CohereForAI_C4AI_Command.CohereForAI_C4AI_Command'>, <class 'g4f.Provider.Copilot.Copilot'>, <class 'g4f.Provider.needs_auth.CopilotAccount.CopilotAccount'>, <class 'g4f.providers.create_images.CreateImagesProvider'>, <class 'g4f.Provider.needs_auth.Custom.Custom'>, <class 'g4f.Provider.needs_auth.DeepInfra.DeepInfra'>, <class 'g4f.Provider.DeepInfraChat.DeepInfraChat'>, <class 'g4f.Provider.needs_auth.DeepSeek.DeepSeek'>, <class 'g4f.Provider.needs_auth.DeepSeekAPI.DeepSeekAPI'>, <class 'g4f.Provider.hf_space.DeepseekAI_JanusPro7b.DeepseekAI_JanusPro7b'>, <class 'g4f.Provider.DuckDuckGo.DuckDuckGo'>, <class 'g4f.Provider.audio.EdgeTTS.EdgeTTS'>, <class 'g4f.Provider.needs_auth.Custom.Feature'>, <class 'g4f.Provider.Free2GPT.Free2GPT'>, <class 'g4f.Provider.FreeGpt.FreeGpt'>, <class 'g4f.Provider.needs_auth.Gemini.Gemini'>, <class 'g4f.Provider.needs_auth.GeminiPro.GeminiPro'>, <class 'g4f.Provider.needs_auth.GigaChat.GigaChat'>, <class 'g4f.Provider.needs_auth.GithubCopilot.GithubCopilot'>, <class 'g4f.Provider.needs_auth.GlhfChat.GlhfChat'>, <class 'g4f.Provider.needs_auth.Grok.Grok'>, <class 'g4f.Provider.needs_auth.Groq.Groq'>, <class 'g4f.Provider.needs_auth.mini_max.HailuoAI.HailuoAI'>, <class 'g4f.Provider.har.HarProvider'>, <class 'g4f.Provider.needs_auth.hf.HuggingChat.HuggingChat'>, <class 'g4f.Provider.needs_auth.hf.HuggingFace'>, <class 'g4f.Provider.needs_auth.hf.HuggingFaceAPI.HuggingFaceAPI'>, <class 'g4f.Provider.needs_auth.hf.HuggingFaceInference.HuggingFaceInference'>, <class 'g4f.Provider.needs_auth.hf.HuggingFaceMedia.HuggingFaceMedia'>, <class 'g4f.Provider.hf_space.HuggingSpace'>, <class 'g4f.Provider.ImageLabs.ImageLabs'>, <class 'g4f.providers.retry_provider.IterListProvider'>, <class 'g4f.Provider.needs_auth.LMArenaBeta.LMArenaBeta'>, <class 'g4f.Provider.LambdaChat.LambdaChat'>, <class 'g4f.Provider.LegacyLMArena.LegacyLMArena'>, <class 'g4f.Provider.local.Local.Local'>, <class 'g4f.Provider.audio.MarkItDown.MarkItDown'>, <class 'g4f.Provider.needs_auth.MetaAI.MetaAI'>, <class 'g4f.Provider.needs_auth.MetaAIAccount.MetaAIAccount'>, <class 'g4f.Provider.needs_auth.MicrosoftDesigner.MicrosoftDesigner'>, <class 'g4f.Provider.hf_space.Microsoft_Phi_4_Multimodal.Microsoft_Phi_4_Multimodal'>, <class 'g4f.Provider.needs_auth.mini_max.MiniMax.MiniMax'>, <class 'g4f.Provider.OIVSCodeSer0501.OIVSCodeSer0501'>, <class 'g4f.Provider.OIVSCodeSer2.OIVSCodeSer2'>, <class 'g4f.Provider.local.Ollama.Ollama'>, <class 'g4f.Provider.audio.OpenAIFM.OpenAIFM'>, <class 'g4f.Provider.needs_auth.OpenRouter.OpenRouter'>, <class 'g4f.Provider.needs_auth.OpenaiAPI.OpenaiAPI'>, <class 'g4f.Provider.needs_auth.OpenaiAccount.OpenaiAccount'>, <class 'g4f.Provider.needs_auth.OpenaiChat.OpenaiChat'>, <class 'g4f.Provider.template.OpenaiTemplate.OpenaiTemplate'>, <class 'g4f.Provider.needs_auth.PerplexityApi.PerplexityApi'>, <class 'g4f.Provider.PerplexityLabs.PerplexityLabs'>, <class 'g4f.Provider.needs_auth.Pi.Pi'>, <class 'g4f.Provider.PollinationsAI.PollinationsAI'>, <class 'g4f.Provider.PollinationsImage.PollinationsImage'>, <class 'g4f.Provider.needs_auth.PuterJS.PuterJS'>, <class 'g4f.Provider.hf_space.Qwen_Qwen_2_5.Qwen_Qwen_2_5'>, <class 'g4f.Provider.hf_space.Qwen_Qwen_2_5M.Qwen_Qwen_2_5M'>, <class 'g4f.Provider.hf_space.Qwen_Qwen_2_5_Max.Qwen_Qwen_2_5_Max'>, <class 'g4f.Provider.hf_space.Qwen_Qwen_2_72B.Qwen_Qwen_2_72B'>, <class 'g4f.Provider.hf_space.Qwen_Qwen_3.Qwen_Qwen_3'>, <class 'g4f.Provider.needs_auth.Reka.Reka'>, <class 'g4f.Provider.needs_auth.Replicate.Replicate'>, <class 'g4f.providers.retry_provider.RetryProvider'>, <class 'g4f.Provider.hf_space.StabilityAI_SD35Large.StabilityAI_SD35Large'>, <class 'g4f.Provider.TeachAnything.TeachAnything'>, <class 'g4f.Provider.needs_auth.ThebApi.ThebApi'>, <class 'g4f.Provider.Together.Together'>, <class 'g4f.Provider.WeWordle.WeWordle'>, <class 'g4f.Provider.Websim.Websim'>, <class 'g4f.Provider.needs_auth.WhiteRabbitNeo.WhiteRabbitNeo'>, <class 'g4f.Provider.needs_auth.You.You'>, <class 'g4f.Provider.Yqcloud.Yqcloud'>, <class 'g4f.Provider.audio.gTTS.gTTS'>, <class 'g4f.Provider.hf_space.StabilityAI_SD35Large.StabilityAI_SD35Large'>, <class 'g4f.Provider.needs_auth.xAI.xAI'>, <class 'g4f.providers.any_provider.AnyProvider'>]\n"
     ]
    }
   ],
   "source": [
    "import g4f\n",
    "print(g4f.Provider.__providers__)\n"
   ]
  },
  {
   "cell_type": "code",
   "execution_count": 24,
   "id": "475d065e-1075-4348-a1e8-44bffdb21df3",
   "metadata": {},
   "outputs": [],
   "source": [
    "import g4f\n",
    "from g4f.Provider import FreeGpt, Yqcloud, You\n",
    "\n",
    "def ask_chatgpt(prompt):\n",
    "    providers = [Yqcloud, FreeGpt, You]  # Use only reliable, no-auth ones\n",
    "\n",
    "    for provider in providers:\n",
    "        try:\n",
    "            response = g4f.ChatCompletion.create(\n",
    "                model=\"gpt-3.5-turbo\",\n",
    "                provider=provider(),\n",
    "                messages=[\n",
    "                    {\"role\": \"user\", \"content\": prompt}\n",
    "                ]\n",
    "            )\n",
    "            if response:\n",
    "                return response\n",
    "        except Exception as e:\n",
    "            print(f\"{provider.__name__} failed: {e}\")\n",
    "    \n",
    "    return \"Sorry, I couldn't connect to ChatGPT right now.\"\n"
   ]
  },
  {
   "cell_type": "markdown",
   "id": "2c11c546-c415-4a5c-b8c3-af61bd399177",
   "metadata": {},
   "source": [
    "10. WHATSAPP MSGING"
   ]
  },
  {
   "cell_type": "code",
   "execution_count": 25,
   "id": "c53aaada-daba-418e-ab7d-cca35b493dbe",
   "metadata": {},
   "outputs": [],
   "source": [
    "import webbrowser\n",
    "import pyautogui\n",
    "import pyperclip\n",
    "import time\n",
    "import subprocess\n",
    "import platform\n",
    "\n",
    "def send_whatsapp_message(contact_name, message):\n",
    "    try:\n",
    "        engine_talk(f\"Opening WhatsApp Web to message {contact_name}\")\n",
    "        webbrowser.open(\"https://web.whatsapp.com\")\n",
    "        engine_talk(\"Bringing WhatsApp Web to front...\")\n",
    "\n",
    "        time.sleep(10)  # Allow it to load\n",
    "\n",
    "        # Bring browser to front (Windows only)\n",
    "        if platform.system() == \"Windows\":\n",
    "            subprocess.run('powershell -command \"(New-Object -ComObject Shell.Application).Windows() | ForEach-Object { $_.Visible = $true }\"', shell=True)\n",
    "\n",
    "        # Step 1: Click on the WhatsApp Search box (adjust x, y)\n",
    "        pyautogui.click(x=354, y=272)  # Update these if needed\n",
    "        time.sleep(1)\n",
    "\n",
    "        # Step 2: Search contact\n",
    "        pyperclip.copy(contact_name)\n",
    "        pyautogui.hotkey(\"ctrl\", \"v\")\n",
    "        time.sleep(1)\n",
    "        pyautogui.press(\"enter\")\n",
    "        time.sleep(1)\n",
    "\n",
    "        # Step 3: Type and send message\n",
    "        pyperclip.copy(message)\n",
    "        pyautogui.hotkey(\"ctrl\", \"v\")\n",
    "        pyautogui.press(\"enter\")\n",
    "\n",
    "        print(f\" Message sent to: {contact_name}\")\n",
    "        engine_talk(\"Message sent successfully.\")\n",
    "\n",
    "    except Exception as e:\n",
    "        print(\" WhatsApp send error:\", e)\n",
    "        engine_talk(\"Sorry, I couldn't send the message.\")\n"
   ]
  },
  {
   "cell_type": "code",
   "execution_count": 26,
   "id": "33ecb0ca-8775-4bc6-a88e-a14b1f25538e",
   "metadata": {},
   "outputs": [
    {
     "name": "stdout",
     "output_type": "stream",
     "text": [
      "Point(x=1533, y=803)\n"
     ]
    }
   ],
   "source": [
    "import pyautogui\n",
    "print(pyautogui.position())"
   ]
  },
  {
   "cell_type": "markdown",
   "id": "ba7dfecb-981d-4aa7-8749-0917402085e8",
   "metadata": {},
   "source": [
    "USER COMMANDS"
   ]
  },
  {
   "cell_type": "code",
   "execution_count": 27,
   "id": "29bfe555-579a-4319-93ed-8baef940629a",
   "metadata": {},
   "outputs": [],
   "source": [
    "def user_commands(retries=2):\n",
    "    for _ in range(retries):\n",
    "        try:\n",
    "            with sr.Microphone() as source:\n",
    "                print(\"Start Speaking!!\")\n",
    "                voice = listener.listen(source, timeout=5, phrase_time_limit=8)\n",
    "                command = listener.recognize_google(voice)\n",
    "                command = command.lower()\n",
    "                if 'vani' in command:\n",
    "                    command = command.replace('vani', '')\n",
    "                    engine_talk('yes, how can I help you?')\n",
    "                print(f\"You said: {command}\")\n",
    "                return command\n",
    "        except sr.UnknownValueError:\n",
    "            engine_talk(\"Sorry, I missed that. Could you please repeat?\")\n",
    "        except sr.RequestError as e:\n",
    "            engine_talk(\"There was a problem connecting to the speech service.\")\n",
    "            print(\"Speech Recognition Error:\", e)\n",
    "            return None\n",
    "    return None\n"
   ]
  },
  {
   "cell_type": "code",
   "execution_count": 28,
   "id": "70aa7605-b8cf-4709-b30c-b53b52bfd621",
   "metadata": {},
   "outputs": [],
   "source": [
    "def run_alexa():\n",
    "    command = user_commands()\n",
    "\n",
    "    if 'play' in command:\n",
    "        song = command.replace('play', '')\n",
    "        engine_talk('Playing ' + song)\n",
    "        pywhatkit.playonyt(song)\n",
    "\n",
    "    elif 'time' in command:\n",
    "        current_time = datetime.datetime.now().strftime('%I:%M %p')\n",
    "        engine_talk('The current time is ' + current_time)\n",
    "\n",
    "    elif 'who is' in command:\n",
    "        name = command.replace('who is', '')\n",
    "        info = wikipedia.summary(name, 1)\n",
    "        print(info)\n",
    "        engine_talk(info)\n",
    "\n",
    "    elif 'news' in command:\n",
    "        news = get_news()\n",
    "        print(news)\n",
    "        engine_talk(news)\n",
    "\n",
    "    elif 'joke' in command:\n",
    "        engine_talk(pyjokes.get_joke())\n",
    "\n",
    "    elif 'weather' in command:\n",
    "        engine_talk(\"Please tell the name of the city.\")\n",
    "        city = user_commands()\n",
    "        weather_info = weather(city)\n",
    "        engine_talk(weather_info)\n",
    "\n",
    "    elif 'open' in command:\n",
    "        app = command.replace('open', '').strip()\n",
    "        response = open_app(app)\n",
    "        engine_talk(response)\n",
    "\n",
    "    elif 'close' in command:\n",
    "        app = command.replace('close', '').strip()\n",
    "        response = close_app(app)\n",
    "        engine_talk(response)\n",
    "\n",
    "    elif 'stop' in command:\n",
    "        engine_talk(\"Goodbye!\")\n",
    "        sys.exit()\n",
    "\n",
    "    elif 'show' in command or 'directory' in command or 'file' in command:\n",
    "        folder = command.replace('open folder', '').replace('open directory', '').replace('open file', '').strip()\n",
    "        response = open_folder(folder)\n",
    "        engine_talk(response)\n",
    "\n",
    "    elif 'read unread emails' in command:\n",
    "        engine_talk('Checking your unread emails...')\n",
    "        read_unread_emails(EMAIL_USER, EMAIL_PASS)\n",
    "\n",
    "    elif 'send email' in command:\n",
    "        engine_talk('Please provide your email ID')\n",
    "        sender_email = user_commands()\n",
    "        engine_talk('Please provide your email password')\n",
    "        sender_password = user_commands()\n",
    "        engine_talk('Who is the receiver?')\n",
    "        receiver_email = user_commands()\n",
    "        engine_talk('What is the subject?')\n",
    "        subject = user_commands()\n",
    "        engine_talk('Please dictate the message body')\n",
    "        body = user_commands()\n",
    "        result = send_email(sender_email, sender_password, receiver_email, subject, body)\n",
    "        engine_talk(result)\n",
    "\n",
    "    elif 'ask' in command or 'query' in command or 'question' in command:\n",
    "        engine_talk(\"What would you like to ask?\")\n",
    "        query = user_commands()\n",
    "        engine_talk(\"Thinking...\")\n",
    "        answer = ask_chatgpt(query)\n",
    "        print(\"ChatGPT:\", answer)\n",
    "        engine_talk(answer)\n",
    "\n",
    "    elif 'screenshot' in command:\n",
    "        result = take_screenshot()\n",
    "        print(result)\n",
    "        engine_talk(result)\n",
    "\n",
    "    elif 'note' in command or 'reminder' in command or 'sticky' in command:\n",
    "        engine_talk(\"What should I remind you?\")\n",
    "        note = user_commands()\n",
    "        if note:\n",
    "            result = create_sticky_note(note)\n",
    "            engine_talk(result)\n",
    "        else:\n",
    "            engine_talk(\"Sorry, I didn’t catch that. Try again.\")\n",
    "\n",
    "    elif 'whatsapp' in command and 'message' in command:\n",
    "        engine_talk(\"Who do you want to message?\")\n",
    "        contact = user_commands()\n",
    "        if contact:\n",
    "            engine_talk(f\"What message should I send to {contact}?\")\n",
    "            msg = user_commands()\n",
    "            if msg:\n",
    "                send_whatsapp_message(contact, msg)\n",
    "            else:\n",
    "                engine_talk(\"Sorry, I missed the message.\")\n",
    "        else:\n",
    "            engine_talk(\"Sorry, I missed the contact name.\")\n",
    "\n",
    "    else:\n",
    "        engine_talk(\"I could not hear you properly.\")\n"
   ]
  },
  {
   "cell_type": "code",
   "execution_count": 29,
   "id": "6d83b9b9-a5a5-44a3-abc9-49613076a46d",
   "metadata": {},
   "outputs": [
    {
     "name": "stdout",
     "output_type": "stream",
     "text": [
      "Start Speaking!!\n",
      "Vani: yes, how can I help you?\n",
      "You said:  play a song\n",
      "Vani: Playing   a song\n",
      "Start Speaking!!\n",
      "Vani: Sorry, I missed that. Could you please repeat?\n",
      "Start Speaking!!\n",
      "Vani: yes, how can I help you?\n",
      "You said:  tell me the weather\n",
      "Vani: Please tell the name of the city.\n",
      "Start Speaking!!\n",
      "You said: gwalior\n",
      "Vani: The current temperature in gwalior is 29.88°C with overcast clouds.\n",
      "Start Speaking!!\n",
      "Vani: yes, how can I help you?\n",
      "You said:  send a whatsapp\n",
      "Vani: I could not hear you properly.\n",
      "Start Speaking!!\n",
      "You said: send a whatsapp message\n",
      "Vani: Who do you want to message?\n",
      "Start Speaking!!\n",
      "You said: baba\n",
      "Vani: What message should I send to baba?\n",
      "Start Speaking!!\n",
      "You said: hello\n",
      "Vani: Opening WhatsApp Web to message baba\n",
      "Vani: Bringing WhatsApp Web to front...\n",
      " Message sent to: baba\n",
      "Vani: Message sent successfully.\n",
      "Start Speaking!!\n",
      "You said: stop\n",
      "Vani: Goodbye!\n"
     ]
    },
    {
     "ename": "SystemExit",
     "evalue": "",
     "output_type": "error",
     "traceback": [
      "An exception has occurred, use %tb to see the full traceback.\n",
      "\u001b[1;31mSystemExit\u001b[0m\n"
     ]
    },
    {
     "name": "stderr",
     "output_type": "stream",
     "text": [
      "C:\\Users\\Asus\\AppData\\Roaming\\Python\\Python312\\site-packages\\IPython\\core\\interactiveshell.py:3585: UserWarning: To exit: use 'exit', 'quit', or Ctrl-D.\n",
      "  warn(\"To exit: use 'exit', 'quit', or Ctrl-D.\", stacklevel=1)\n"
     ]
    }
   ],
   "source": [
    "# Continuously runs the assistant\n",
    "while True:\n",
    "   run_alexa()"
   ]
  },
  {
   "cell_type": "code",
   "execution_count": null,
   "id": "69e043cd-a983-4661-b418-bf598b339a87",
   "metadata": {},
   "outputs": [],
   "source": []
  }
 ],
 "metadata": {
  "kernelspec": {
   "display_name": "Python 3 (ipykernel)",
   "language": "python",
   "name": "python3"
  },
  "language_info": {
   "codemirror_mode": {
    "name": "ipython",
    "version": 3
   },
   "file_extension": ".py",
   "mimetype": "text/x-python",
   "name": "python",
   "nbconvert_exporter": "python",
   "pygments_lexer": "ipython3",
   "version": "3.12.4"
  }
 },
 "nbformat": 4,
 "nbformat_minor": 5
}
